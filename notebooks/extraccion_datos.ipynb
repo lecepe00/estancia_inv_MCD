{
 "cells": [
  {
   "cell_type": "code",
   "execution_count": 1,
   "id": "676fcf67-1565-4468-8a98-bb8b24f782b5",
   "metadata": {},
   "outputs": [],
   "source": [
    "import pandas as pd\n",
    "import seaborn as sns\n",
    "import numpy as np\n",
    "import matplotlib.pyplot as plt\n",
    "import time\n",
    "import glob\n",
    "#import wget\n",
    "import sys\n",
    "import os\n",
    "import re"
   ]
  },
  {
   "cell_type": "code",
   "execution_count": 2,
   "id": "fdee3e80-0875-4280-8f68-9ea1a8adea14",
   "metadata": {},
   "outputs": [
    {
     "name": "stdout",
     "output_type": "stream",
     "text": [
      "50\n"
     ]
    }
   ],
   "source": [
    "path, dirs, files = next(os.walk(\"../data\"))\n",
    "file_count = len(files)\n",
    "print(file_count)"
   ]
  },
  {
   "cell_type": "code",
   "execution_count": 3,
   "id": "8a7e5e75-af86-4699-898b-7166826718ee",
   "metadata": {},
   "outputs": [],
   "source": [
    "ruta_txt = '../data/*.txt'"
   ]
  },
  {
   "cell_type": "code",
   "execution_count": 4,
   "id": "fa23e498-5f23-407a-b8ef-acd32dbcff49",
   "metadata": {},
   "outputs": [],
   "source": [
    "def funcion_auxiliar_ponentes(x0,x1,x2,x3):\n",
    "    if len(x0)!= 0 :\n",
    "        result = x0\n",
    "    elif len(x1)!= 0:\n",
    "        result = x1\n",
    "    elif len(x2)!= 0:\n",
    "        result =[\"No se menciona el nombre del ponente sólo del relator\"]\n",
    "    elif x3 == 1:\n",
    "        result =[\"Revisar texto tesis\"]    \n",
    "    return result"
   ]
  },
  {
   "cell_type": "code",
   "execution_count": 5,
   "id": "65f2dd1e-a162-4cf1-a2d0-402671d62392",
   "metadata": {},
   "outputs": [],
   "source": [
    "def funcion_auxiliar_secretarios(x0,x1,x10):\n",
    "    if len(x0)!= 0 :\n",
    "        result = x0\n",
    "    elif len(x1)!= 0:\n",
    "        result = [\"La publicación no menciona el nombre del ponente\"]\n",
    "    elif x10 == 1:\n",
    "        result =[\"Revisar texto tesis\"]    \n",
    "    return result"
   ]
  },
  {
   "cell_type": "code",
   "execution_count": 6,
   "id": "d55ea300-692d-4662-a7ed-41b281cdbd55",
   "metadata": {},
   "outputs": [
    {
     "name": "stdout",
     "output_type": "stream",
     "text": [
      "el tiempo total fue de 0.08 segundos\n"
     ]
    }
   ],
   "source": [
    "tabla_tesis_jurisprudencia = pd.DataFrame(columns=['id_tesis', '#_ponente', 'ponente', '#_secretario', 'secretario', 'fecha'])\n",
    "\n",
    "t0 = time.time()\n",
    "n = len(glob.glob(ruta_txt))\n",
    "tipo = []\n",
    "\n",
    "for i in range(n):\n",
    "\n",
    "    file = open(glob.glob(ruta_txt)[i],'r', encoding='utf8')\n",
    "    text = file.read()\n",
    "    file.close()\n",
    "    \n",
    "    #Eliminar tabulaciones adicionales\n",
    "    text_aux = text.strip()\n",
    "    \n",
    "    #Posicion en el texto de las variables\n",
    "    pos_registro_digital = text_aux.find('Registro digital:')\n",
    "    pos_final_registro_digital = text_aux[pos_registro_digital:].find('\\n')\n",
    "    pos_instancia = text_aux.find('Instancia:')\n",
    "    pos_final_instancia_aux1 = text_aux[pos_instancia:].find('\\n\\n')\n",
    "\n",
    "    lista  = []\n",
    "\n",
    "    lista.append(text_aux[pos_instancia:].find('Primera Época'))\n",
    "    lista.append(text_aux[pos_instancia:].find('Segunda Época'))\n",
    "    lista.append(text_aux[pos_instancia:].find('Tercera Época'))\n",
    "    lista.append(text_aux[pos_instancia:].find('Cuarta Época'))\n",
    "    lista.append(text_aux[pos_instancia:].find('Quinta Época'))\n",
    "    lista.append(text_aux[pos_instancia:].find('Sexta Época'))\n",
    "    lista.append(text_aux[pos_instancia:].find('Séptima Época'))\n",
    "    lista.append(text_aux[pos_instancia:].find('Octava Época'))\n",
    "    lista.append(text_aux[pos_instancia:].find('Novena Época'))\n",
    "    lista.append(text_aux[pos_instancia:].find('Décima Época'))\n",
    "    lista.append(text_aux[pos_instancia:].find('Undécima Época'))\n",
    "\n",
    "    pos_final_instancia_aux2 = min([x for x in lista if x > -1])\n",
    "    \n",
    "    if pos_final_instancia_aux1 < pos_final_instancia_aux2:\n",
    "        pos_final_instancia = pos_final_instancia_aux1\n",
    "    else:\n",
    "        pos_final_instancia = pos_final_instancia_aux2\n",
    "\n",
    "    pos_epoca_aux1 = text_aux.find('\\n\\n')\n",
    "\n",
    "    lista  = []\n",
    "\n",
    "    lista.append(text_aux.find('Primera Época'))\n",
    "    lista.append(text_aux.find('Segunda Época'))\n",
    "    lista.append(text_aux.find('Tercera Época'))\n",
    "    lista.append(text_aux.find('Cuarta Época'))\n",
    "    lista.append(text_aux.find('Quinta Época'))\n",
    "    lista.append(text_aux.find('Sexta Época'))\n",
    "    lista.append(text_aux.find('Séptima Época'))\n",
    "    lista.append(text_aux.find('Octava Época'))\n",
    "    lista.append(text_aux.find('Novena Época'))\n",
    "    lista.append(text_aux.find('Décima Época'))\n",
    "    lista.append(text_aux.find('Undécima Época'))\n",
    "\n",
    "    pos_epoca_aux2 = min([x for x in lista if x > -1])\n",
    "\n",
    "    if pos_epoca_aux1 < pos_epoca_aux2:\n",
    "        pos_epoca = pos_epoca_aux1\n",
    "    else:\n",
    "        pos_epoca = pos_epoca_aux2\n",
    "\n",
    "    if pos_epoca_aux1 < pos_epoca_aux2:\n",
    "        pos_final_epoca = text_aux[pos_epoca+2:].find('\\n\\n')\n",
    "    else:\n",
    "        pos_final_epoca = text_aux[pos_epoca+2:].find('\\n')\n",
    "        \n",
    "    pos_materia = text_aux.find('Materia(s):')\n",
    "    pos_final_materia = text_aux[pos_materia:].find('\\n\\n')\n",
    "\n",
    "    pos_tesis = text_aux.find('Tesis:')\n",
    "    pos_final_tesis = text_aux[pos_tesis:].find('\\n\\n')\n",
    "\n",
    "    pos_fuente = text_aux.find('Fuente:')\n",
    "    pos_final_fuente = text_aux[pos_fuente:].find('.')\n",
    "\n",
    "    pos_tipo = text_aux.find('Tipo:')\n",
    "    if text_aux[pos_tipo:].find('\\n\\n') < text_aux[pos_tipo:].find('\\n') :\n",
    "        pos_final_tipo = text_aux[pos_tipo:].find('\\n\\n')\n",
    "    else:\n",
    "        pos_final_tipo = text_aux[pos_tipo:].find('\\n')-2\n",
    "\n",
    "    pos_encabezado = text_aux[pos_tipo:].find('\\n\\n')\n",
    "\n",
    "    #Tamano de las variables\n",
    "    len_registro_digital = len('Registro digital:')\n",
    "    len_instancia = len('Instancia:')\n",
    "    if pos_epoca_aux1 < pos_epoca_aux2:\n",
    "        len_epoca = len('\\n\\n')\n",
    "    else:\n",
    "        len_epoca = 0\n",
    "    len_materia = len('Materia(s):')\n",
    "    len_fuente = len('Fuente:')\n",
    "    len_tipo = len('Tipo:')\n",
    "    \n",
    "    tipo = text_aux[pos_tipo+len_tipo:pos_tipo+pos_final_tipo+2].replace('\\n',' ').strip()\n",
    "    \n",
    "    if tipo == \"Jurisprudencia\":\n",
    "        \n",
    "        #contradiccion = text_aux.find('Contradicción de tesis')\n",
    "        #if text_aux.find('Contradicción de tesis') == -1:\n",
    "        \n",
    "        if len(re.findall('Ponente',text_aux)) >= 5:\n",
    "    \n",
    "            #Búsqueda de Id\n",
    "            encontrar_id_tesis = re.search(r'Registro digital: (\\d+)',text)\n",
    "            tesis = [encontrar_id_tesis.group(1)]\n",
    "\n",
    "            #Limpieza Texto\n",
    "            text_aux = text_aux.replace('\\n\\n','###')\n",
    "            text_aux = text.replace('\\n',' ')\n",
    "\n",
    "            #Búsqueda de párrafo donde se mencione ponente con fecha\n",
    "            #ponente_fecha_aux = re.findall(r'Ponente: [\\s\\S]*? \\d{2} de [\\s\\S]*? de \\d{4}[\\s\\S]*?Nota:', text_aux)\n",
    "            ponente_fecha_aux = re.findall(r'Amparo [\\s\\S]*? Ponente: [\\s\\S]*? Secretari\\w: [\\s\\S]*?', text_aux)\n",
    "            ponente_fecha_texto = ''.join(ponente_fecha_aux)\n",
    "\n",
    "            #Búsqueda de Ponente\n",
    "            x0_ponente = re.findall(\"Ponente: ([\\s\\S]*?)(?:.###|. Secretari|,|.\\nSecretari|;|. Nota:|Pág.|Vol|.Tom|. Véase|. Amparo|. Séptima Época|. Sexta Época)\",ponente_fecha_texto) \n",
    "            x1_ponente = re.findall(\"publicación ([\\s\\S]*?) del ponente\",ponente_fecha_texto )\n",
    "            x2_ponente = re.findall(r\"Relator\",ponente_fecha_texto)\n",
    "            x3_ponente = 1\n",
    "            ponentes = funcion_auxiliar_ponentes(x0_ponente,x1_ponente,x2_ponente,x3_ponente)\n",
    "\n",
    "            #Búsqueda de Fecha\n",
    "            fecha_ponente = re.findall(r'\\d{1,2} de [\\b(enero|febrero|marzo|abril|mayo|junio|julio|agosto|septiembre|octubre|noviembre|diciembre)]*? de \\d{4}', ponente_fecha_texto)\n",
    "            \n",
    "            #impresión debug\n",
    "            #print(i)\n",
    "            #print(tesis)\n",
    "            #print(fecha_ponente)\n",
    "            \n",
    "            #Búsqueda de Secretario\n",
    "            x0_secretario = re.findall(\"(?:Secretario:|Secretaria:|Secretario: |Secretaria: |secretario:|secretaria:|secretario: |secretaria: )([\\s\\S]*?)(\\.)\",text_aux)\n",
    "            x0_aux = pd.DataFrame (x0_secretario, columns = ['secretario', 'delete'])\n",
    "            x0_aux = x0_aux.drop(columns=['delete'])\n",
    "            x0_secretario = x0_aux['secretario'].values.tolist()\n",
    "            x1_secretario = re.findall(\"(?:La publicación |La publicacion)([\\s\\S]*?) (?:del ponente|el ponente)\",text_aux)\n",
    "            x10_secretario = 10\n",
    "            secretarios = funcion_auxiliar_secretarios(x0_secretario,x1_secretario,x10_secretario)\n",
    "\n",
    "            #Vector con ID tesis para crear tabla\n",
    "            vector_tesis = len(ponentes)*tesis\n",
    "            vector_numero = [(i+1) for i in range(len(ponentes))]\n",
    "\n",
    "            tabla_iteracion = pd.DataFrame({'id_tesis':vector_tesis,'#_ponente':vector_numero,'ponente':ponentes,'#_secretario':vector_numero, 'secretario':secretarios,'fecha':fecha_ponente})\n",
    "            tabla_tesis_jurisprudencia = tabla_tesis_jurisprudencia.append(tabla_iteracion)\n",
    "\n",
    "            # Imprimir cada 10,000 iteraciones\n",
    "            #if i%1000 == 0:\n",
    "            #    print(\"Van {ii} iteraciones de {nn}\".format(ii = i, nn = n))\n",
    "\n",
    "tn = time.time()\n",
    "print(\"el tiempo total fue de {tiempo:.2f} segundos\".format(tiempo = tn-t0))"
   ]
  },
  {
   "cell_type": "code",
   "execution_count": 7,
   "id": "aa6a4936-b53f-459f-853e-5f15299fb0a8",
   "metadata": {},
   "outputs": [
    {
     "data": {
      "text/html": [
       "<div>\n",
       "<style scoped>\n",
       "    .dataframe tbody tr th:only-of-type {\n",
       "        vertical-align: middle;\n",
       "    }\n",
       "\n",
       "    .dataframe tbody tr th {\n",
       "        vertical-align: top;\n",
       "    }\n",
       "\n",
       "    .dataframe thead th {\n",
       "        text-align: right;\n",
       "    }\n",
       "</style>\n",
       "<table border=\"1\" class=\"dataframe\">\n",
       "  <thead>\n",
       "    <tr style=\"text-align: right;\">\n",
       "      <th></th>\n",
       "      <th>id_tesis</th>\n",
       "      <th>#_ponente</th>\n",
       "      <th>ponente</th>\n",
       "      <th>#_secretario</th>\n",
       "      <th>secretario</th>\n",
       "      <th>fecha</th>\n",
       "    </tr>\n",
       "  </thead>\n",
       "  <tbody>\n",
       "    <tr>\n",
       "      <th>0</th>\n",
       "      <td>159814</td>\n",
       "      <td>1</td>\n",
       "      <td>Olga Sánchez Cordero de García Villegas</td>\n",
       "      <td>1</td>\n",
       "      <td>Ana Carolina Cienfuegos Posada</td>\n",
       "      <td>26 de octubre de 2005</td>\n",
       "    </tr>\n",
       "    <tr>\n",
       "      <th>1</th>\n",
       "      <td>159814</td>\n",
       "      <td>2</td>\n",
       "      <td>Olga Sánchez Cordero de García Villegas</td>\n",
       "      <td>2</td>\n",
       "      <td>Constanza Tort San Román</td>\n",
       "      <td>30 de noviembre de 2005</td>\n",
       "    </tr>\n",
       "    <tr>\n",
       "      <th>2</th>\n",
       "      <td>159814</td>\n",
       "      <td>3</td>\n",
       "      <td>Olga Sánchez Cordero de García Villegas</td>\n",
       "      <td>3</td>\n",
       "      <td>Francisco Octavio Escudero Contreras</td>\n",
       "      <td>2 de julio de 2008</td>\n",
       "    </tr>\n",
       "    <tr>\n",
       "      <th>3</th>\n",
       "      <td>159814</td>\n",
       "      <td>4</td>\n",
       "      <td>Olga Sánchez Cordero de García Villegas</td>\n",
       "      <td>4</td>\n",
       "      <td>Francisco Octavio Escudero Contreras</td>\n",
       "      <td>3 de diciembre de 2008</td>\n",
       "    </tr>\n",
       "    <tr>\n",
       "      <th>4</th>\n",
       "      <td>159814</td>\n",
       "      <td>5</td>\n",
       "      <td>José de Jesús Gudiño Pelayo</td>\n",
       "      <td>5</td>\n",
       "      <td>Carmina Cortés Rodríguez</td>\n",
       "      <td>1 de septiembre de 2010</td>\n",
       "    </tr>\n",
       "    <tr>\n",
       "      <th>0</th>\n",
       "      <td>159824</td>\n",
       "      <td>1</td>\n",
       "      <td>Fidelia Camacho Rivera</td>\n",
       "      <td>1</td>\n",
       "      <td>Constantino Baeza León</td>\n",
       "      <td>17 de marzo de 2003</td>\n",
       "    </tr>\n",
       "    <tr>\n",
       "      <th>1</th>\n",
       "      <td>159824</td>\n",
       "      <td>2</td>\n",
       "      <td>Leonardo Rodríguez Bastar</td>\n",
       "      <td>2</td>\n",
       "      <td>Isaías Corona Coronado</td>\n",
       "      <td>13 de febrero de 2004</td>\n",
       "    </tr>\n",
       "    <tr>\n",
       "      <th>2</th>\n",
       "      <td>159824</td>\n",
       "      <td>3</td>\n",
       "      <td>Gloria García Reyes</td>\n",
       "      <td>3</td>\n",
       "      <td>Fidelia Camacho Rivera</td>\n",
       "      <td>18 de agosto de 2011</td>\n",
       "    </tr>\n",
       "    <tr>\n",
       "      <th>3</th>\n",
       "      <td>159824</td>\n",
       "      <td>4</td>\n",
       "      <td>José Luis Caballero Rodríguez</td>\n",
       "      <td>4</td>\n",
       "      <td>Zazil Ha Hernández Contreras</td>\n",
       "      <td>2 de septiembre de 2011</td>\n",
       "    </tr>\n",
       "    <tr>\n",
       "      <th>4</th>\n",
       "      <td>159824</td>\n",
       "      <td>5</td>\n",
       "      <td>José Luis Caballero Rodríguez</td>\n",
       "      <td>5</td>\n",
       "      <td>Zazil Ha Hernández Contreras</td>\n",
       "      <td>2 de septiembre de 2011</td>\n",
       "    </tr>\n",
       "  </tbody>\n",
       "</table>\n",
       "</div>"
      ],
      "text/plain": [
       "  id_tesis #_ponente                                  ponente #_secretario  \\\n",
       "0   159814         1  Olga Sánchez Cordero de García Villegas            1   \n",
       "1   159814         2  Olga Sánchez Cordero de García Villegas            2   \n",
       "2   159814         3  Olga Sánchez Cordero de García Villegas            3   \n",
       "3   159814         4  Olga Sánchez Cordero de García Villegas            4   \n",
       "4   159814         5              José de Jesús Gudiño Pelayo            5   \n",
       "0   159824         1                   Fidelia Camacho Rivera            1   \n",
       "1   159824         2                Leonardo Rodríguez Bastar            2   \n",
       "2   159824         3                      Gloria García Reyes            3   \n",
       "3   159824         4            José Luis Caballero Rodríguez            4   \n",
       "4   159824         5            José Luis Caballero Rodríguez            5   \n",
       "\n",
       "                              secretario                    fecha  \n",
       "0         Ana Carolina Cienfuegos Posada    26 de octubre de 2005  \n",
       "1               Constanza Tort San Román  30 de noviembre de 2005  \n",
       "2   Francisco Octavio Escudero Contreras       2 de julio de 2008  \n",
       "3   Francisco Octavio Escudero Contreras   3 de diciembre de 2008  \n",
       "4               Carmina Cortés Rodríguez  1 de septiembre de 2010  \n",
       "0                 Constantino Baeza León      17 de marzo de 2003  \n",
       "1                 Isaías Corona Coronado    13 de febrero de 2004  \n",
       "2                 Fidelia Camacho Rivera     18 de agosto de 2011  \n",
       "3           Zazil Ha Hernández Contreras  2 de septiembre de 2011  \n",
       "4           Zazil Ha Hernández Contreras  2 de septiembre de 2011  "
      ]
     },
     "execution_count": 7,
     "metadata": {},
     "output_type": "execute_result"
    }
   ],
   "source": [
    "tabla_tesis_jurisprudencia"
   ]
  },
  {
   "cell_type": "markdown",
   "id": "47c914c0-4b3d-4d0a-b29d-dda789d2d4eb",
   "metadata": {},
   "source": [
    "La tabla debe llevar esta info: Número de registro de tesis, instancia, época, materia, fecha, ponente, secretario."
   ]
  },
  {
   "cell_type": "markdown",
   "id": "dc7a2244-90f2-4661-96ac-5020ae28b6f2",
   "metadata": {},
   "source": [
    "#### Pruebas para tesis 159814 y 159824 (usado para crear el código anterior)"
   ]
  },
  {
   "cell_type": "code",
   "execution_count": 8,
   "id": "81e3a4ee-4ea1-4cdb-9cdc-f48bb846475b",
   "metadata": {},
   "outputs": [],
   "source": [
    "file_ej1 = open(glob.glob(ruta_txt)[7],'r', encoding='utf8')\n",
    "text_ej1 = file_ej1.read()\n",
    "file_ej1.close()\n",
    "\n",
    "file_ej2 = open(glob.glob(ruta_txt)[17],'r', encoding='utf8')\n",
    "text_ej2 = file_ej2.read()\n",
    "file_ej2.close()"
   ]
  },
  {
   "cell_type": "code",
   "execution_count": 9,
   "id": "ea556e58-6775-4da2-9d3c-30fd528fbef4",
   "metadata": {},
   "outputs": [],
   "source": [
    "text_aux_ej1 = text_ej1.strip()\n",
    "text_aux_ej2 = text_ej2.strip()"
   ]
  },
  {
   "cell_type": "code",
   "execution_count": 10,
   "id": "7c9fd377-4971-44b2-8c71-4a334104a1ec",
   "metadata": {},
   "outputs": [],
   "source": [
    "text_aux_ej1 = text_aux_ej1.replace('\\n\\n','###')\n",
    "text_aux_ej1 = text_aux_ej1.replace('\\n',' ')\n",
    "#text_aux_ej1"
   ]
  },
  {
   "cell_type": "code",
   "execution_count": 11,
   "id": "8ed1eb70-07c3-444b-815f-366dcbdb96d4",
   "metadata": {},
   "outputs": [],
   "source": [
    "text_aux_ej2 = text_aux_ej2.replace('\\n\\n','###')\n",
    "text_aux_ej2 = text_aux_ej2.replace('\\n',' ')\n",
    "#text_aux_ej2"
   ]
  },
  {
   "cell_type": "code",
   "execution_count": 12,
   "id": "71bd8346-2314-421c-9837-de35b30f8485",
   "metadata": {},
   "outputs": [
    {
     "data": {
      "text/plain": [
       "' Tesis Registro digital: 159814 Instancia: Primera Sala###Décima Época###Materia(s): Constitucional, Penal###Tesis: 1a./J. 71/2014 (9a.)###Fuente: Gaceta del Semanario Judicial de la Federación. Libro 12, Noviembre de 2014, Tomo I, página 585###Tipo: Jurisprudencia###OPERACIONES CON RECURSOS DE PROCEDENCIA ILÍCITA. EL ARTÍCULO 400 BIS, PÁRRAFO SEXTO, DEL CÓDIGO PENAL FEDERAL, VIGENTE HASTA EL 14 DE MARZO DE 2014, NO VULNERA EL PRINCIPIO DE PRESUNCIÓN DE INOCENCIA.###El precepto citado, al prever que son producto de una actividad ilícita los recursos, derechos o bienes de cualquier naturaleza, cuando existan indicios fundados o certeza de que provienen directa o indirectamente, o representan las ganancias derivadas de la comisión de algún delito y no pueda acreditarse su legítima procedencia, no vulnera el principio de presunción de inocencia, pues la determinación de tal elemento normativo exige comprobar que la actividad de la que proceden los recursos es ilícita, para lo cual, el Ministerio Público debe aportar indicios fundados, cuya valoración permita tener certeza de que provienen o representan las ganancias derivadas de la comisión de algún delito, por lo que no debe considerarse que la frase \"y no pueda acreditarse su legítima procedencia\" revierta la carga de la prueba al inculpado, eximiendo al Ministerio Público de la obligación que tiene en términos de los artículos 21 y 102 de la Constitución Política de los Estados Unidos Mexicanos, ya que la hipótesis en él contenida sólo constituye una presunción iuris tantum, al admitir prueba en contrario; es decir, este señalamiento no obliga al inculpado a demostrar la licitud de la procedencia de los recursos, toda vez que ello constituye el reconocimiento del derecho de defensa que le asiste. Consecuentemente, el artículo 400 bis, párrafo sexto, del Código Penal Federal, vigente hasta el 14 de marzo de 2014, alude a la forma en que el imputado decide ejercer su defensa frente a las pruebas aportadas en su contra, en el entendido de que si aquél no acredita la legítima procedencia de los recursos, dicha circunstancia, por sí sola, tampoco releva al Ministerio Público de recabar el acervo probatorio que acredite la existencia del delito y la responsabilidad penal; de ahí que no se está en presencia de una obligación, sino de un derecho que se puede ejercer o no y, en consecuencia, tampoco obliga al imputado a declarar en su contra.###Amparo en revisión 1374/2005. 26 de octubre de 2005. Cinco votos de los Ministros José de Jesús Gudiño Pelayo, Sergio A. Valls Hernández, Juan N. Silva Meza, José Ramón Cossío Díaz, quien formuló voto concurrente y Olga Sánchez Cordero de García Villegas. Ponente: Olga Sánchez Cordero de García Villegas. Secretaria: Ana Carolina Cienfuegos Posada. Amparo directo en revisión 1760/2005. 30 de noviembre de 2005. Cinco votos de los Ministros José de Jesús Gudiño Pelayo, Sergio A. Valls Hernández, Juan N. Silva Meza, José Ramón Cossío Díaz y Olga Sánchez Cordero de García Villegas. Ponente: Olga Sánchez Cordero de García Villegas. Secretaria: Constanza Tort San Román.### 159814### 09/07/2021###\\x0c Amparo directo en revisión 794/2008. 2 de julio de 2008. Cinco votos de los Ministros José de Jesús Gudiño Pelayo, José Ramón Cossío Díaz, Juan N. Silva Meza, Olga Sánchez Cordero de García Villegas y Sergio A. Valls Hernández. Ponente: Olga Sánchez Cordero de García Villegas. Secretario: Francisco Octavio Escudero Contreras. Amparo en revisión 327/2008. 3 de diciembre de 2008. Mayoría de cuatro votos de los Ministros José de Jesús Gudiño Pelayo, Juan N. Silva Meza, Olga Sánchez Cordero de García Villegas y Sergio A. Valls Hernández. Disidente: José Ramón Cossío Díaz, quien formuló voto particular. Ponente: Olga Sánchez Cordero de García Villegas. Secretario: Francisco Octavio Escudero Contreras. Amparo en revisión 433/2010. 1 de septiembre de 2010. Cinco votos de los Ministros Arturo Zaldívar Lelo de Larrea, José Ramón Cossío Díaz, Juan N. Silva Meza, Olga Sánchez Cordero de García Villegas y José de Jesús Gudiño Pelayo. Ponente: José de Jesús Gudiño Pelayo. Secretaria: Carmina Cortés Rodríguez. Tesis de jurisprudencia 71/2014 (9a.), aprobada por la Primera Sala de este Alto Tribunal, en sesión de fecha cinco de noviembre de dos mil catorce.###Esta tesis se publicó el viernes 21 de noviembre de 2014 a las 09:20 horas en el Semanario Judicial de la Federación y, por ende, se considera de aplicación obligatoria a partir del lunes 24 de noviembre de 2014, para los efectos previstos en el punto séptimo del Acuerdo General Plenario 19/2013.### 159814### 09/07/2021'"
      ]
     },
     "execution_count": 12,
     "metadata": {},
     "output_type": "execute_result"
    }
   ],
   "source": [
    "text_aux2_ej1 = text_ej1.strip()\n",
    "text_aux2_ej1 = text_aux2_ej1.replace('Pág. 1 de 1','')\n",
    "text_aux2_ej1 = text_aux2_ej1.replace('Pág. 1 de 2','')\n",
    "text_aux2_ej1 = text_aux2_ej1.replace('Pág. 2 de 2','')\n",
    "text_aux2_ej1 = text_aux2_ej1.replace('Semanario Judicial de la Federación','')\n",
    "text_aux2_ej1 = text_aux2_ej1.replace('http://sjf2.scjn.gob.mx/detalle/tesis/','')\n",
    "text_aux2_ej1 = text_aux2_ej1.replace('Fecha de impresión','')\n",
    "#text_aux2_ej1 = re.sub('\\d', '',text_aux2_ej1)\n",
    "\n",
    "text_aux2_ej1 = text_aux2_ej1.replace('\\n\\n','###')\n",
    "text_aux2_ej1 = text_aux2_ej1.replace('\\n',' ')\n",
    "text_aux2_ej1 = text_aux2_ej1.replace('### //###\\x0c','')\n",
    "\n",
    "text_aux2_ej1"
   ]
  },
  {
   "cell_type": "markdown",
   "id": "fc7a2c76-78fb-48eb-a6c5-8dd746df124a",
   "metadata": {},
   "source": [
    "**Ponentes y Fechas**"
   ]
  },
  {
   "cell_type": "code",
   "execution_count": 13,
   "id": "7171f1b3-b250-41c0-b31e-692eb39b9949",
   "metadata": {},
   "outputs": [
    {
     "data": {
      "text/plain": [
       "['Amparo en revisión 1374/2005. 26 de octubre de 2005. Cinco votos de los Ministros José de Jesús Gudiño Pelayo, Sergio A. Valls Hernández, Juan N. Silva Meza, José Ramón Cossío Díaz, quien formuló voto concurrente y Olga Sánchez Cordero de García Villegas. Ponente: Olga Sánchez Cordero de García Villegas. Secretaria: ',\n",
       " 'Amparo directo en revisión 1760/2005. 30 de noviembre de 2005. Cinco votos de los Ministros José de Jesús Gudiño Pelayo, Sergio A. Valls Hernández, Juan N. Silva Meza, José Ramón Cossío Díaz y Olga Sánchez Cordero de García Villegas. Ponente: Olga Sánchez Cordero de García Villegas. Secretaria: ',\n",
       " 'Amparo directo en revisión 794/2008. 2 de julio de 2008. Cinco votos de los Ministros José de Jesús Gudiño Pelayo, José Ramón Cossío Díaz, Juan N. Silva Meza, Olga Sánchez Cordero de García Villegas y Sergio A. Valls Hernández. Ponente: Olga Sánchez Cordero de García Villegas. Secretario: ',\n",
       " 'Amparo en revisión 327/2008. 3 de diciembre de 2008. Mayoría de cuatro votos de los Ministros José de Jesús Gudiño Pelayo, Juan N. Silva Meza, Olga Sánchez Cordero de García Villegas y Sergio A. Valls Hernández. Disidente: José Ramón Cossío Díaz, quien formuló voto particular. Ponente: Olga Sánchez Cordero de García Villegas. Secretario: ',\n",
       " 'Amparo en revisión 433/2010. 1 de septiembre de 2010. Cinco votos de los Ministros Arturo Zaldívar Lelo de Larrea, José Ramón Cossío Díaz, Juan N. Silva Meza, Olga Sánchez Cordero de García Villegas y José de Jesús Gudiño Pelayo. Ponente: José de Jesús Gudiño Pelayo. Secretaria: ']"
      ]
     },
     "execution_count": 13,
     "metadata": {},
     "output_type": "execute_result"
    }
   ],
   "source": [
    "ponente_fecha_aux_ej1 = re.findall(r'Amparo [\\s\\S]*? Ponente: [\\s\\S]*? Secretari\\w: [\\s\\S]*?', text_aux_ej1)\n",
    "ponente_fecha_texto_ej1 = ''.join(ponente_fecha_aux_ej1)\n",
    "ponente_fecha_texto_ej1\n",
    "ponente_fecha_aux_ej1"
   ]
  },
  {
   "cell_type": "code",
   "execution_count": 14,
   "id": "3f8b3452-3194-4f0a-a18a-52b89085c58a",
   "metadata": {},
   "outputs": [
    {
     "data": {
      "text/plain": [
       "['Olga Sánchez Cordero de García Villegas',\n",
       " 'Olga Sánchez Cordero de García Villegas',\n",
       " 'Olga Sánchez Cordero de García Villegas',\n",
       " 'Olga Sánchez Cordero de García Villegas',\n",
       " 'José de Jesús Gudiño Pelayo']"
      ]
     },
     "execution_count": 14,
     "metadata": {},
     "output_type": "execute_result"
    }
   ],
   "source": [
    "#Búsqueda de Ponente\n",
    "x_0_ej1 = re.findall(\"Ponente: ([\\s\\S]*?)(?:.###|. Secretari|,|.\\nSecretari|;|. Nota:|Pág.|Vol|.Tom|. Véase|. Amparo|. Séptima Época|. Sexta Época)\",\n",
    "                 ponente_fecha_texto_ej1) \n",
    "x_1_ej1 = re.findall(\"publicación ([\\s\\S]*?) del ponente\",ponente_fecha_texto_ej1)\n",
    "x_2_ej1 = re.findall(r\"Relator\",ponente_fecha_texto_ej1)\n",
    "x_3_ej1 = 1\n",
    "\n",
    "ponentes_ej1 = funcion_auxiliar_ponentes(x_0_ej1,x_1_ej1,x_2_ej1,x_3_ej1)\n",
    "ponentes_ej1"
   ]
  },
  {
   "cell_type": "code",
   "execution_count": 15,
   "id": "e22d13a3-469d-480e-83a5-82b07b3664a1",
   "metadata": {},
   "outputs": [
    {
     "data": {
      "text/plain": [
       "['26 de octubre de 2005',\n",
       " '30 de noviembre de 2005',\n",
       " '2 de julio de 2008',\n",
       " '3 de diciembre de 2008',\n",
       " '1 de septiembre de 2010']"
      ]
     },
     "execution_count": 15,
     "metadata": {},
     "output_type": "execute_result"
    }
   ],
   "source": [
    "#Búsqueda de Fecha\n",
    "fecha_ponente_ej1 = re.findall(r'\\d{1,2} de [\\b(enero|febrero|marzo|abril|mayo|junio|julio|agosto|septiembre|octubre|noviembre|diciembre)]*? de \\d{4}',\n",
    "                               ponente_fecha_texto_ej1)\n",
    "fecha_ponente_ej1"
   ]
  },
  {
   "cell_type": "code",
   "execution_count": 16,
   "id": "63120988-8e64-4fb6-a832-baeabd763fa4",
   "metadata": {},
   "outputs": [
    {
     "data": {
      "text/plain": [
       "'Amparo directo 102/2003. Sección 26 del Sindicato de Trabajadores Petroleros de la República Mexicana y otro. 17 de marzo de 2003. Unanimidad de votos. Ponente: Fidelia Camacho Rivera, Pág. 1 de 2 http://sjf2.scjn.gob.mx/detalle/tesis/159824###Fecha de impresión 09/07/2021###\\x0cSemanario Judicial de la Federación secretaria de tribunal autorizada por el Pleno del Consejo de la Judicatura Federal para desempeñar las funciones de Magistrada. Secretario: Amparo directo 1066/2003. Blanca Aurora Calderón Velazco. 13 de febrero de 2004. Unanimidad de votos. Ponente: Leonardo Rodríguez Bastar. Secretario: Amparo directo 595/2011. Juan Carlos Jiménez de la Cruz. 18 de agosto de 2011. Unanimidad de votos. Ponente: Gloria García Reyes. Secretaria: Amparo directo 621/2011. Carmita Jiménez Jiménez. 2 de septiembre de 2011. Unanimidad de votos. Ponente: José Luis Caballero Rodríguez. Secretaria: Amparo directo 622/2011. 2 de septiembre de 2011. Unanimidad de votos. Ponente: José Luis Caballero Rodríguez. Secretaria: '"
      ]
     },
     "execution_count": 16,
     "metadata": {},
     "output_type": "execute_result"
    }
   ],
   "source": [
    "ponente_fecha_aux_ej2 = re.findall(r'Amparo [\\s\\S]*? Ponente: [\\s\\S]*? Secretari\\w: [\\s\\S]*?', text_aux_ej2)\n",
    "ponente_fecha_texto_ej2 = ''.join(ponente_fecha_aux_ej2)\n",
    "ponente_fecha_texto_ej2"
   ]
  },
  {
   "cell_type": "code",
   "execution_count": 17,
   "id": "f824e050-86e3-40f0-8fcc-62cb5a8c1f59",
   "metadata": {},
   "outputs": [
    {
     "data": {
      "text/plain": [
       "['Fidelia Camacho Rivera',\n",
       " 'Leonardo Rodríguez Bastar',\n",
       " 'Gloria García Reyes',\n",
       " 'José Luis Caballero Rodríguez',\n",
       " 'José Luis Caballero Rodríguez']"
      ]
     },
     "execution_count": 17,
     "metadata": {},
     "output_type": "execute_result"
    }
   ],
   "source": [
    "#Búsqueda de Ponente\n",
    "x_0_ej2 = re.findall(\"Ponente: ([\\s\\S]*?)(?:.###|. Secretari|,|.\\nSecretari|;|. Nota:|Pág.|Vol|.Tom|. Véase|. Amparo|. Séptima Época|. Sexta Época)\",\n",
    "                 ponente_fecha_texto_ej2) \n",
    "x_1_ej2 = re.findall(\"publicación ([\\s\\S]*?) del ponente\",ponente_fecha_texto_ej2)\n",
    "x_2_ej2 = re.findall(r\"Relator\",ponente_fecha_texto_ej2)\n",
    "x_3_ej2 = 1\n",
    "\n",
    "ponentes_ej2 = funcion_auxiliar_ponentes(x_0_ej2,x_1_ej2,x_2_ej2,x_3_ej2)\n",
    "ponentes_ej2"
   ]
  },
  {
   "cell_type": "code",
   "execution_count": 18,
   "id": "9aaf9483-f617-46b0-ab49-9aa13940cc85",
   "metadata": {},
   "outputs": [
    {
     "data": {
      "text/plain": [
       "['17 de marzo de 2003',\n",
       " '13 de febrero de 2004',\n",
       " '18 de agosto de 2011',\n",
       " '2 de septiembre de 2011',\n",
       " '2 de septiembre de 2011']"
      ]
     },
     "execution_count": 18,
     "metadata": {},
     "output_type": "execute_result"
    }
   ],
   "source": [
    "#Búsqueda de Fecha\n",
    "fecha_ponente_ej2 = re.findall(r'\\d{1,2} de [\\b(enero|febrero|marzo|abril|mayo|junio|julio|agosto|septiembre|octubre|noviembre|diciembre)]*? de \\d{4}',\n",
    "                               ponente_fecha_texto_ej2)\n",
    "fecha_ponente_ej2"
   ]
  },
  {
   "cell_type": "markdown",
   "id": "0d8ea5b4-339e-4e11-b39e-c84a1f362eb5",
   "metadata": {},
   "source": [
    "**Secretarios**"
   ]
  },
  {
   "cell_type": "code",
   "execution_count": 19,
   "id": "61ed302a-f74c-4d4c-9503-2d50ba97c856",
   "metadata": {},
   "outputs": [],
   "source": [
    "def funcion_auxiliar_secretarios(x_0,x_1,x_10):\n",
    "    if len(x_0)!= 0 :\n",
    "        result = x_0\n",
    "    elif len(x_1)!= 0:\n",
    "        result = [\"La publicación no menciona el nombre del ponente\"]\n",
    "    elif x_10 == 1:\n",
    "        result =[\"Revisar texto tesis\"]    \n",
    "    return result"
   ]
  },
  {
   "cell_type": "code",
   "execution_count": 20,
   "id": "0193843d-6367-4595-a4f5-0bd19176c955",
   "metadata": {},
   "outputs": [
    {
     "data": {
      "text/plain": [
       "[(' Ana Carolina Cienfuegos Posada', '.'),\n",
       " (' Constanza Tort San Román', '.'),\n",
       " (' Francisco Octavio Escudero Contreras', '.'),\n",
       " (' Francisco Octavio Escudero Contreras', '.'),\n",
       " (' Carmina Cortés Rodríguez', '.')]"
      ]
     },
     "execution_count": 20,
     "metadata": {},
     "output_type": "execute_result"
    }
   ],
   "source": [
    "prueba = re.findall(\"(?:Secretario:|Secretaria:|Secretario: |Secretaria: |secretario:|secretaria:|secretario: |secretaria: )([\\s\\S]*?)(\\.)\",text_aux2_ej1)\n",
    "prueba"
   ]
  },
  {
   "cell_type": "code",
   "execution_count": 21,
   "id": "6d3ae712-9f55-434a-8bce-f9e127aa2255",
   "metadata": {},
   "outputs": [
    {
     "data": {
      "text/plain": [
       "[' Ana Carolina Cienfuegos Posada',\n",
       " ' ',\n",
       " ' Francisco Octavio Escudero ',\n",
       " ' Francisco Octavio Escudero ',\n",
       " ' Carmina Cortés Rodríguez']"
      ]
     },
     "execution_count": 21,
     "metadata": {},
     "output_type": "execute_result"
    }
   ],
   "source": [
    "#Original del equipo anterior\n",
    "x_0 = re.findall(\"(?:Secretario:|Secretaria:|Secretario: |Secretaria: |secretario:|secretaria:|secretario: |secretaria: )([\\s\\S]*?)(?:\\.###|se encargo|Quinta Epoca:|. Hay cosa|Acumulación|Impedimento|Antecedente:|Revisión|Expediente|Los señores|Jurisprudencia|demás que las|XIV.|las demás que|fallado|no superan|Aplicada|De conformidad|contra el|para el|Lo resolvió|Secretarrio:|Presidente|Secretario encargado|ha estimado|Disidente.|Veáse|Impedido:|Vease:|Por |Sexta Epoca|Integró|Para|Tribunal|Ausente|votos|_________________|Texto|Secretarios|Reproduce|Véanse:|Ponente:|EL|Tomo|Resuelto|Ausentes|Que|Varios|Con|Aclaración|Tomando|Juicio|Relator|Ministro|Incidente|/.|Texto aprobado|Relacionada|Séptima|Acción|Facultad|Controversia|Solicitud|Sostiene|La |Inejecución|Octava|En |Este |Se |Repetición|Reitera|El |Contradicción|La presente|El Tribunal|Tesis|La Primera|Sostienen|Informe|Véase|Esta|Importa|Disidentes:|Voto|Ausente:|Secretario:|###|Inconformidad|Conflicto|Nota|Criterios|Reconocimiento|Competencia|Precedente|Recurso|Secretaria|Amparo|;|\\. Nota\\:|\\. Notas\\:|Nota\\:|Pág\\.|Vol|\\. Volumen|\\. Volúme|\\.Tom|\\. Véase|\\. Amparo di|\\.   Amparo dir|\\. Amparo in|Amparo en|\\. Undécima Época|\\. Décima Época|\\. Novena Época|\\. Octava Época|\\. Séptima Época|\\. Sexta Época|\\. Quinta Época|\\. Cuarta Época|\\. Tercera Época|\\. Segunda Época|\\. Primera Época|\\. Undécima Epoca|\\. Décima Epoca|\\. Novena Epoca|\\. Octava Epoca|\\. Séptima Epoca|\\. Sexta Epoca|\\. Quinta Epoca|\\. Cuarta Epoca|\\. Tercera Epoca|\\. Segunda Epoca|\\. Primera Epoca|\\. Improcedencia civil|Sostiene la misma tesis:|\\. Revisión fiscal|\\. Unanimidad|\\. Queja|Queja|\\. Competencia|\\. Reclamación|\\.   Reclamación /.|\\.  de enero de|\\.  de febrero de|\\.  de marzo de|\\.  de abril de|\\.  de mayo de|\\.  de junio de|\\.  de julio de|\\.  de agosto de|\\.  de septiembre de|\\.  de octubre de|\\.  de noviembre de|\\.  de diciembre de|\\. Disidente:|\\. Precedentes|\\. Improcedencia|\\. Impedimento|\\. Excusa|\\. Incidente|\\. Encargad|\\. Revisión|\\. Tomo|por licencia concedida|en funciones de Magistrado por Ministerio de Ley|\\. Engrose: |\\. Criterios|\\. Tesis|\\.   Tesis|\\. El Tribunal|\\. Contradicción de tesis|\\. Texto|\\. NOTA|\\. Recurso de|\\.   El Tribunal|\\. Véanse|\\.   Revisión|.   Notas)\",text_aux2_ej1)                                \n",
    "x_0"
   ]
  },
  {
   "cell_type": "code",
   "execution_count": 22,
   "id": "66459336-dd5f-44c9-8ec7-c7c70c47d314",
   "metadata": {},
   "outputs": [
    {
     "data": {
      "text/plain": [
       "[' Ana Carolina Cienfuegos Posada',\n",
       " ' Constanza Tort San Román',\n",
       " ' Francisco Octavio Escudero Contreras',\n",
       " ' Francisco Octavio Escudero Contreras',\n",
       " ' Carmina Cortés Rodríguez']"
      ]
     },
     "execution_count": 22,
     "metadata": {},
     "output_type": "execute_result"
    }
   ],
   "source": [
    "#Modificado\n",
    "x_0 = re.findall(\"(?:Secretario:|Secretaria:|Secretario: |Secretaria: |secretario:|secretaria:|secretario: |secretaria: )([\\s\\S]*?)(\\.)\",text_aux2_ej1)\n",
    "x0_aux = pd.DataFrame (x_0, columns = ['secretario', 'delete'])\n",
    "x0_aux = x0_aux.drop(columns=['delete'])\n",
    "x_0 = x0_aux['secretario'].values.tolist()\n",
    "x_0"
   ]
  },
  {
   "cell_type": "code",
   "execution_count": 23,
   "id": "a5452462-d003-4c1e-a498-0ec746463bba",
   "metadata": {},
   "outputs": [],
   "source": [
    "#Modificado no usado\n",
    "#x_0 = re.findall(\"(?:Secretario:|Secretaria:|Secretario: |Secretaria: |secretario:|secretaria:|secretario: |secretaria: )([\\s\\S]*?)(\\.)\",text_aux2_ej1)\n",
    "#x0_aux = np.array(x_0)\n",
    "#x0_aux = np.delete(x0_aux, 1, 1)\n",
    "#x_0 = x0_aux.tolist()\n",
    "#x_0"
   ]
  },
  {
   "cell_type": "code",
   "execution_count": 24,
   "id": "358f274a-eb6b-4b75-a6cc-77499201343d",
   "metadata": {},
   "outputs": [
    {
     "data": {
      "text/plain": [
       "[]"
      ]
     },
     "execution_count": 24,
     "metadata": {},
     "output_type": "execute_result"
    }
   ],
   "source": [
    "x_1 = re.findall(\"(?:La publicación |La publicacion)([\\s\\S]*?) (?:del ponente|el ponente)\",text_aux2_ej1)\n",
    "x_1"
   ]
  },
  {
   "cell_type": "code",
   "execution_count": 25,
   "id": "7e5b5ea6-1323-40c1-88c9-84a60b035352",
   "metadata": {},
   "outputs": [],
   "source": [
    "x_10 = 1"
   ]
  },
  {
   "cell_type": "code",
   "execution_count": 26,
   "id": "9ced02e3-cbdc-4fc0-afb7-e77b3e0add9a",
   "metadata": {},
   "outputs": [
    {
     "data": {
      "text/plain": [
       "[' Ana Carolina Cienfuegos Posada',\n",
       " ' Constanza Tort San Román',\n",
       " ' Francisco Octavio Escudero Contreras',\n",
       " ' Francisco Octavio Escudero Contreras',\n",
       " ' Carmina Cortés Rodríguez']"
      ]
     },
     "execution_count": 26,
     "metadata": {},
     "output_type": "execute_result"
    }
   ],
   "source": [
    "secretarios = funcion_auxiliar_secretarios(x_0,x_1,x_10)\n",
    "secretarios"
   ]
  },
  {
   "cell_type": "code",
   "execution_count": 27,
   "id": "c7011867-e5f4-41e6-bbb8-2a7ddd1387bd",
   "metadata": {},
   "outputs": [],
   "source": [
    "vector_tesis = len(secretarios)*tesis\n",
    "vector_numero_secretario = [(i+1) for i in range(len(secretarios))]"
   ]
  },
  {
   "cell_type": "code",
   "execution_count": 28,
   "id": "4e0b9dc1-e36d-4d4a-b6b3-c484e269abd9",
   "metadata": {},
   "outputs": [],
   "source": [
    "tabla_iteracion = pd.DataFrame({'id_tesis':vector_tesis,'secretario':secretarios,'numero_secretario':vector_numero_secretario})"
   ]
  },
  {
   "cell_type": "code",
   "execution_count": 29,
   "id": "02b2e979-3708-40b2-971a-d5801a4ea617",
   "metadata": {},
   "outputs": [
    {
     "data": {
      "text/html": [
       "<div>\n",
       "<style scoped>\n",
       "    .dataframe tbody tr th:only-of-type {\n",
       "        vertical-align: middle;\n",
       "    }\n",
       "\n",
       "    .dataframe tbody tr th {\n",
       "        vertical-align: top;\n",
       "    }\n",
       "\n",
       "    .dataframe thead th {\n",
       "        text-align: right;\n",
       "    }\n",
       "</style>\n",
       "<table border=\"1\" class=\"dataframe\">\n",
       "  <thead>\n",
       "    <tr style=\"text-align: right;\">\n",
       "      <th></th>\n",
       "      <th>id_tesis</th>\n",
       "      <th>secretario</th>\n",
       "      <th>numero_secretario</th>\n",
       "    </tr>\n",
       "  </thead>\n",
       "  <tbody>\n",
       "    <tr>\n",
       "      <th>0</th>\n",
       "      <td>159824</td>\n",
       "      <td>Ana Carolina Cienfuegos Posada</td>\n",
       "      <td>1</td>\n",
       "    </tr>\n",
       "    <tr>\n",
       "      <th>1</th>\n",
       "      <td>159824</td>\n",
       "      <td>Constanza Tort San Román</td>\n",
       "      <td>2</td>\n",
       "    </tr>\n",
       "    <tr>\n",
       "      <th>2</th>\n",
       "      <td>159824</td>\n",
       "      <td>Francisco Octavio Escudero Contreras</td>\n",
       "      <td>3</td>\n",
       "    </tr>\n",
       "    <tr>\n",
       "      <th>3</th>\n",
       "      <td>159824</td>\n",
       "      <td>Francisco Octavio Escudero Contreras</td>\n",
       "      <td>4</td>\n",
       "    </tr>\n",
       "    <tr>\n",
       "      <th>4</th>\n",
       "      <td>159824</td>\n",
       "      <td>Carmina Cortés Rodríguez</td>\n",
       "      <td>5</td>\n",
       "    </tr>\n",
       "  </tbody>\n",
       "</table>\n",
       "</div>"
      ],
      "text/plain": [
       "  id_tesis                             secretario  numero_secretario\n",
       "0   159824         Ana Carolina Cienfuegos Posada                  1\n",
       "1   159824               Constanza Tort San Román                  2\n",
       "2   159824   Francisco Octavio Escudero Contreras                  3\n",
       "3   159824   Francisco Octavio Escudero Contreras                  4\n",
       "4   159824               Carmina Cortés Rodríguez                  5"
      ]
     },
     "execution_count": 29,
     "metadata": {},
     "output_type": "execute_result"
    }
   ],
   "source": [
    "tabla_iteracion"
   ]
  },
  {
   "cell_type": "code",
   "execution_count": null,
   "id": "ab519126-e61a-4d88-a25d-56c9b761a530",
   "metadata": {},
   "outputs": [],
   "source": []
  },
  {
   "cell_type": "code",
   "execution_count": null,
   "id": "aaab8d5d-5d61-40b3-9b64-9378ff601aaf",
   "metadata": {},
   "outputs": [],
   "source": []
  },
  {
   "cell_type": "code",
   "execution_count": null,
   "id": "c0993796-69bf-43f5-b618-e311e0005088",
   "metadata": {},
   "outputs": [],
   "source": []
  }
 ],
 "metadata": {
  "kernelspec": {
   "display_name": "Python 3 (ipykernel)",
   "language": "python",
   "name": "python3"
  },
  "language_info": {
   "codemirror_mode": {
    "name": "ipython",
    "version": 3
   },
   "file_extension": ".py",
   "mimetype": "text/x-python",
   "name": "python",
   "nbconvert_exporter": "python",
   "pygments_lexer": "ipython3",
   "version": "3.8.10"
  }
 },
 "nbformat": 4,
 "nbformat_minor": 5
}
